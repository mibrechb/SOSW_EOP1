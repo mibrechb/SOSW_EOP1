{
 "cells": [
  {
   "cell_type": "markdown",
   "metadata": {},
   "source": [
    "# 01_prep_insitu\n",
    "\n",
    "This notebook harmonizes insitu temperature data from water stations to a common format. The output files in /data/parsed are expected to have the following columns:\n",
    "\n",
    "- **dt_utc**:     datetime string (UTC) formatted in \"YYYY-MM-dd HH:mm:ss\"\n",
    "- **station_id**:   station identifier\n",
    "- **station_name**: station name\n",
    "- **spm**:  insitu suspended sediment concentration value\n",
    "- **river**:        associted river name\n",
    "- **geometry**:     wgs84 point coordinate of sampling position\n",
    "- **source**:       dataset source"
   ]
  },
  {
   "cell_type": "code",
   "execution_count": null,
   "metadata": {},
   "outputs": [],
   "source": [
    "import hvplot.pandas\n",
    "import hvplot.xarray\n",
    "import xarray as xr\n",
    "import geopandas as gpd\n",
    "import pandas as pd\n",
    "import numpy as np\n",
    "from pathlib import Path\n",
    "import shapely"
   ]
  },
  {
   "cell_type": "code",
   "execution_count": null,
   "metadata": {},
   "outputs": [],
   "source": [
    "selector = ['dt_utc', 'station_id', 'station_name', 'spm', 'river', 'geometry', 'source', 'type']"
   ]
  },
  {
   "cell_type": "markdown",
   "metadata": {},
   "source": [
    "### WMQN"
   ]
  },
  {
   "cell_type": "code",
   "execution_count": null,
   "metadata": {},
   "outputs": [],
   "source": [
    "paths_data = list(Path(f'../mrc_webscrapper/outputs/csv/Total Suspended Solids').rglob(f'*.csv'))\n",
    "\n",
    "df_data = pd.DataFrame([])\n",
    "for path in paths_data:\n",
    "    df_temp = pd.read_csv(path, dtype={'station_code':'str'})\n",
    "    df_temp['dt_utc'] = pd.to_datetime(df_temp['date']).dt.tz_convert('UTC').dt.tz_localize(None)\n",
    "    #df_temp['med_frq'] = np.median(np.diff(df_temp.dt64))\n",
    "    df_data = pd.concat([df_data, df_temp])\n",
    "\n",
    "df_data_wqmn = df_data.copy()\n",
    "df_data_wqmn['source'] = 'WQMN'\n",
    "df_data_wqmn['type'] = 'near-surface'\n",
    "df_data_wqmn = df_data_wqmn.rename(columns={'value': 'spm', 'station_code': 'station_id'})\n",
    "gdf_data_wqmn = gpd.GeoDataFrame(df_data_wqmn, crs='epsg:4326',\n",
    "                                 geometry=df_data_wqmn.apply(lambda row: shapely.geometry.Point((row.lon, row.lat)), axis=1)).reset_index().drop(columns=['index', 'lat', 'lon'])\n",
    "gdf_data_wqmn = gdf_data_wqmn.reindex(columns=selector)"
   ]
  },
  {
   "cell_type": "markdown",
   "metadata": {},
   "source": [
    "### Hydromet-Mekong & DSMP"
   ]
  },
  {
   "cell_type": "code",
   "execution_count": null,
   "metadata": {},
   "outputs": [],
   "source": [
    "paths_data = list(Path(f'../mrc_webscrapper/outputs/csv/Sediment Concentration').rglob(f'*.csv'))\n",
    "\n",
    "df_data = pd.DataFrame([])\n",
    "for path in paths_data:\n",
    "    df_temp = pd.read_csv(path, dtype={'station_code':'str'})\n",
    "    df_temp['dt_utc'] = pd.to_datetime(df_temp['date']).dt.tz_convert('UTC').dt.tz_localize(None)\n",
    "    #df_temp['med_frq'] = np.median(np.diff(df_temp.dt64))\n",
    "    df_data = pd.concat([df_data, df_temp])\n",
    "\n",
    "df_data['type'] = 'depth-integrated'\n",
    "df_data = df_data.rename(columns={'value': 'spm', 'station_code': 'station_id'})\n",
    "\n",
    "df_data_dsmp = df_data.copy().loc[df_data.identifier.str.contains('Measured DSMP')]\n",
    "df_data_dsmp['source'] = 'DSMP'\n",
    "gdf_data_dsmp = gpd.GeoDataFrame(df_data_dsmp, crs='epsg:4326',\n",
    "                                 geometry=df_data_dsmp.apply(lambda row: shapely.geometry.Point((row.lon, row.lat)), axis=1)).reset_index().drop(columns=['index', 'lat', 'lon', 'identifier'])\n",
    "gdf_data_dsmp = gdf_data_dsmp.reindex(columns=selector)\n",
    "\n",
    "df_data_hydrom = df_data.copy().loc[~df_data.identifier.str.contains('Measured DSMP')]\n",
    "df_data_hydrom['source'] = 'Hydromet'\n",
    "gdf_data_hydrom = gpd.GeoDataFrame(df_data_hydrom, crs='epsg:4326',\n",
    "                                 geometry=df_data_hydrom.apply(lambda row: shapely.geometry.Point((row.lon, row.lat)), axis=1)).reset_index().drop(columns=['index', 'lat', 'lon', 'identifier'])\n",
    "gdf_data_hydrom = gdf_data_hydrom.reindex(columns=selector)"
   ]
  },
  {
   "cell_type": "markdown",
   "metadata": {},
   "source": [
    "### SIWRP data"
   ]
  },
  {
   "cell_type": "code",
   "execution_count": null,
   "metadata": {},
   "outputs": [],
   "source": [
    "path_data = Path(r\"E:\\git\\SOS-Water\\WP3\\T3.2\\notebooks\\tsm_mapper\\data\\siwrp\\siwrp_data.csv\")\n",
    "\n",
    "df_data = pd.read_csv(path_data)\n",
    "df_data['dt_utc'] = pd.to_datetime(df_data['dt_loc_estimated']).dt.tz_convert('UTC').dt.tz_localize(None)\n",
    "df_data['type'] = 'depth-integrated'\n",
    "df_data['station_name'] = df_data.station_id\n",
    "df_data = df_data.rename(columns={'value': 'spm'})\n",
    "df_data = df_data.drop(columns=['parameter_id', 'date'])\n",
    "df_data['source'] = 'SIWRP'\n",
    "\n",
    "gdf_data_siwrp = gpd.GeoDataFrame(df_data, crs='epsg:4326',\n",
    "                                 geometry=df_data.apply(lambda row: shapely.geometry.Point((row.longitude, row.latitude)), axis=1)).reset_index().drop(columns=['index', 'latitude', 'longitude'])\n",
    "gdf_data_siwrp = gdf_data_siwrp.reindex(columns=selector)"
   ]
  },
  {
   "cell_type": "markdown",
   "metadata": {},
   "source": [
    "### Map"
   ]
  },
  {
   "cell_type": "code",
   "execution_count": null,
   "metadata": {},
   "outputs": [],
   "source": [
    "gdf_data_dsmp.groupby('station_id').first().hvplot(geo=True, width=500, tiles='CartoLight', label='DSMP', alpha=0.75) * \\\n",
    "gdf_data_wqmn.groupby('station_id').first().hvplot(geo=True, tiles='CartoLight', label='WQMN', alpha=0.75) * \\\n",
    "gdf_data_hydrom.groupby('station_id').first().hvplot(geo=True, tiles='CartoLight', label='Hydromet', alpha=0.75) * \\\n",
    "gdf_data_siwrp.groupby('station_id').first().hvplot(geo=True, tiles='CartoLight', label='SIWRP', alpha=0.75)"
   ]
  },
  {
   "cell_type": "markdown",
   "metadata": {},
   "source": [
    "# Export data"
   ]
  },
  {
   "cell_type": "code",
   "execution_count": null,
   "metadata": {},
   "outputs": [],
   "source": [
    "from shapely.geometry import Point\n",
    "# merge datasets\n",
    "gdf_data = pd.concat([gdf_data_dsmp, gdf_data_wqmn, gdf_data_hydrom, gdf_data_siwrp])\n",
    "\n",
    "# apply manual coordinate corrections\n",
    "path_corr = Path(r\"E:\\git\\SOS-Water\\WP3\\T3.2\\notebooks\\tsm_mapper\\data\\coordinate_corrections.csv\")\n",
    "df_corr = pd.read_csv(path_corr)\n",
    "gdf_corr = gpd.GeoDataFrame(\n",
    "    df_corr,\n",
    "    geometry=[Point(xy) for xy in zip(df_corr.lon_corr, df_corr.lat_corr)],\n",
    "    crs=\"EPSG:4326\"\n",
    ")\n",
    "dict_corr = gdf_corr.set_index('station_id')['geometry'].to_dict()\n",
    "gdf_data_corr = gdf_data.copy()\n",
    "gdf_data_corr['geometry_og'] = gdf_data_corr['geometry']\n",
    "gdf_data_corr['geometry'] = gdf_data_corr['station_id'].map(dict_corr)\n",
    "gdf_data_corr['geometry'] = gdf_data_corr.apply(lambda row: row['geometry_og'] if not(row['geometry']) else row['geometry'], axis=1)\n",
    "gdf_data_corr = gdf_data_corr.drop(columns=['geometry_og'])\n",
    "gdf_data = gdf_data_corr\n",
    "\n"
   ]
  },
  {
   "cell_type": "code",
   "execution_count": null,
   "metadata": {},
   "outputs": [],
   "source": [
    "gdf_data.to_csv('input/insitu_data.csv')"
   ]
  },
  {
   "cell_type": "code",
   "execution_count": null,
   "metadata": {},
   "outputs": [],
   "source": []
  }
 ],
 "metadata": {
  "kernelspec": {
   "display_name": "Python 3 (ipykernel)",
   "language": "python",
   "name": "python3"
  },
  "language_info": {
   "codemirror_mode": {
    "name": "ipython",
    "version": 3
   },
   "file_extension": ".py",
   "mimetype": "text/x-python",
   "name": "python",
   "nbconvert_exporter": "python",
   "pygments_lexer": "ipython3",
   "version": "3.12.1"
  }
 },
 "nbformat": 4,
 "nbformat_minor": 4
}
