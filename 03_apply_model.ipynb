{
 "cells": [
  {
   "cell_type": "code",
   "execution_count": null,
   "id": "5aba1e38-b579-4750-8dfa-b9503c475539",
   "metadata": {},
   "outputs": [],
   "source": [
    "import ee\n",
    "import geemap\n",
    "import hvplot.pandas\n",
    "import hvplot.xarray\n",
    "import xarray as xr\n",
    "import geopandas as gpd\n",
    "import pandas as pd\n",
    "import numpy as np\n",
    "from pathlib import Path\n",
    "import holoviews as hv\n",
    "import matplotlib.pyplot as plt\n",
    "\n",
    "# Add the 'scripts' folder to the Python path\n",
    "import sys\n",
    "import os\n",
    "sys.path.append(os.path.abspath('scripts'))\n",
    "\n",
    "# Import custom functions\n",
    "import constants as c"
   ]
  },
  {
   "cell_type": "code",
   "execution_count": null,
   "id": "81d03778-c932-4320-83e5-a97cb7e7347d",
   "metadata": {},
   "outputs": [],
   "source": [
    "ee.Authenticate()\n",
    "ee.Initialize()"
   ]
  },
  {
   "cell_type": "markdown",
   "id": "0b56e2ed",
   "metadata": {},
   "source": [
    "## Load RF-Regressor"
   ]
  },
  {
   "cell_type": "code",
   "execution_count": null,
   "id": "fc89a792",
   "metadata": {},
   "outputs": [],
   "source": [
    "asset_name = 'sosw_spm_rfregressor_rrs_14052024'\n",
    "folder_name = r'projects/ee-soswater/assets/classifiers'\n",
    "asset_id = folder_name + '/' + asset_name\n",
    "ee_rf_model = ee.Classifier.load(asset_id)"
   ]
  },
  {
   "cell_type": "markdown",
   "id": "58116e53",
   "metadata": {},
   "source": [
    "## Define sampling site"
   ]
  },
  {
   "cell_type": "code",
   "execution_count": null,
   "id": "48b72648",
   "metadata": {},
   "outputs": [],
   "source": [
    "import geopandas as gpd\n",
    "from shapely import wkt\n",
    "\n",
    "#wkt_str = 'MultiPolygon (((105.98868591 13.5406822, 105.99085617 13.53431199, 105.98314277 13.53120747, 105.979839 13.53044141, 105.97458614 13.53182569, 105.97077091 13.53253798, 105.97202883 13.53839755, 105.97849814 13.53834379, 105.98314277 13.53894855, 105.98868591 13.5406822)))'\n",
    "#wkt_str = 'MultiPolygon (((105.97663327 13.53842664, 105.9755172 13.53148996, 105.97224873 13.53207125, 105.96929913 13.53261379, 105.96818307 13.5327688, 105.96611038 13.53253629, 105.96696071 13.53916293, 105.97150469 13.53828455, 105.97525147 13.53834914, 105.97663327 13.53842664)))'\n",
    "#wkt_str = 'MultiPolygon (((105.96939214 13.53873666, 105.97381653 13.53841372, 105.97234173 13.53196791, 105.96823621 13.53274297, 105.96939214 13.53873666)))'\n",
    "\n",
    "# Don Sahong downstream\n",
    "#wkt_str = 'POLYGON ((105.954638 13.942731, 105.954144 13.943689, 105.951934 13.943585, 105.951891 13.942043, 105.95232 13.940523, 105.952749 13.93919, 105.95247 13.937545, 105.955625 13.937149, 105.955217 13.938899, 105.954573 13.939774, 105.954294 13.940607, 105.954337 13.941502, 105.954638 13.942731))'\n",
    "# Don Sahong upstream\n",
    "wkt_str = 'POLYGON ((105.966589 13.95002, 105.967662 13.950144, 105.967791 13.948978, 105.967534 13.9475, 105.965581 13.945584, 105.962899 13.944355, 105.958178 13.94371, 105.956719 13.94371, 105.956419 13.944667, 105.958886 13.944959, 105.960796 13.945292, 105.963671 13.94625, 105.965345 13.9475, 105.966117 13.948166, 105.966589 13.95002))'\n",
    "\n",
    "# Sesan dam downstream\n",
    "wkt_str = 'POLYGON ((106.199255 13.576164, 106.198826 13.573828, 106.203246 13.573661, 106.205006 13.573369, 106.208782 13.572827, 106.212559 13.573327, 106.217237 13.574037, 106.220798 13.573745, 106.226592 13.571867, 106.231613 13.569907, 106.233501 13.571909, 106.228695 13.574746, 106.223931 13.576164, 106.221099 13.57729, 106.218309 13.577332, 106.212344 13.576248, 106.209211 13.575622, 106.206036 13.575664, 106.199255 13.576164))'\n",
    "\n",
    "df = pd.DataFrame({\n",
    "    'station_id': ['SKB'],\n",
    "    'WKT': [wkt_str]\n",
    "})\n",
    "df['geometry'] = df.WKT.apply(wkt.loads)\n",
    "df.drop('WKT', axis=1, inplace=True)\n",
    "gdf_station = gpd.GeoDataFrame(df, geometry='geometry', crs='EPSG:4326')\n",
    "\n",
    "# Plot\n",
    "gdf_station.hvplot(geo=True, tiles='OSM', color='yellow', alpha=0.5, label='Sampling geometry')"
   ]
  },
  {
   "cell_type": "markdown",
   "id": "198cc0ba",
   "metadata": {},
   "source": [
    "## Prepare imagery and apply model"
   ]
  },
  {
   "cell_type": "code",
   "execution_count": null,
   "id": "ef89bb86",
   "metadata": {},
   "outputs": [],
   "source": [
    "start_date, end_date = '2000-01-01', '2024-06-07' # timespan to extract\n",
    "cld_filt_thresh = 70 # scene-based cloud filter\n",
    "cld_buffer, water_buffer = 250, 30 # cloud (grow) and water (erosion) buffer (meters)\n",
    "watermask = 'index' # type of watermask to apply\n",
    "gdrive_folder = r'E:\\Google Drive\\Earth Engine'\n",
    "output_folder = 'SOSW_SPM_Rrs_07062024'"
   ]
  },
  {
   "cell_type": "code",
   "execution_count": null,
   "id": "6e081c71",
   "metadata": {},
   "outputs": [],
   "source": [
    "%load_ext autoreload\n",
    "%autoreload 2\n",
    "import functions_process as funcs_process\n",
    "import functions_turbidity as funcs_turb\n",
    "import functions_sampling as funcs_sampling\n",
    "from tqdm.notebook import tqdm\n",
    "\n",
    "settings = {\n",
    "    'start_date':       start_date,\n",
    "    'end_date':         end_date,\n",
    "    'cld_buffer':       cld_buffer,\n",
    "    'water_buffer':     water_buffer,\n",
    "    'cld_filt_thresh':  cld_filt_thresh,\n",
    "    'watermask':        watermask,\n",
    "    'harmonize_bnames': True,\n",
    "    'add_indices':      True,\n",
    "    'add_ratios':       True\n",
    "}\n",
    "\n",
    "fc_station = ee.FeatureCollection(geemap.gdf_to_ee(gdf_station))\n",
    "fn = gdf_station.station_id.iloc[0]\n",
    "bounds = fc_station.geometry()\n",
    "\n",
    "ic_oli = funcs_process.load_rrs_imcoll(sensor='oli', bounds=bounds, **settings)\n",
    "fc_oli = ic_oli \\\n",
    "    .map(lambda img: img.classify(ee_rf_model).copyProperties(img) \\\n",
    "        .set('system:time_start', img.get('system:time_start'))) \\\n",
    "    .map(funcs_sampling.get_sample(bounds, buffer_dist=15))\n",
    "\n",
    "ic_etm = funcs_process.load_rrs_imcoll(sensor='etm', bounds=bounds, **settings)\n",
    "fc_etm = ic_etm \\\n",
    "    .map(lambda img: img.classify(ee_rf_model).copyProperties(img) \\\n",
    "        .set('system:time_start', img.get('system:time_start'))) \\\n",
    "    .map(funcs_sampling.get_sample(bounds, buffer_dist=15))\n",
    "\n",
    "ic_msi = funcs_process.load_rrs_imcoll(sensor='msi', bounds=bounds, **settings)\n",
    "fc_msi = ic_msi \\\n",
    "    .map(lambda img: img.classify(ee_rf_model).copyProperties(img) \\\n",
    "        .set('system:time_start', img.get('system:time_start'))) \\\n",
    "    .map(funcs_sampling.get_sample(bounds, buffer_dist=15))\n",
    "\n",
    "fc_samples = ee.FeatureCollection([fc_oli, fc_msi, fc_etm]).flatten() \\\n",
    "\n",
    "task = ee.batch.Export.table.toDrive(**{\n",
    "    'collection': fc_samples, \n",
    "    'description': f'Rrs_downstream_sesan_{fn}',\n",
    "    'folder': output_folder})\n",
    "task.start()"
   ]
  },
  {
   "cell_type": "markdown",
   "id": "d22a7d86",
   "metadata": {},
   "source": [
    "## Import GEE data"
   ]
  },
  {
   "cell_type": "code",
   "execution_count": null,
   "id": "40f06f24",
   "metadata": {},
   "outputs": [],
   "source": [
    "import ast \n",
    "\n",
    "path_output = Path(gdrive_folder).joinpath(output_folder)\n",
    "paths_csv = list(path_output.glob('*downstream_sesan*.csv'))\n",
    "\n",
    "df = pd.DataFrame([])\n",
    "for path in paths_csv:\n",
    "    try:\n",
    "        df_temp = pd.read_csv(path)\n",
    "        df = pd.concat([df, df_temp])\n",
    "    except pd.errors.EmptyDataError:\n",
    "        print(f'Note: {path.name} was empty. Skipping.')\n",
    "        continue # will skip the rest of the block and move to next file\n",
    "\n",
    "def parse_str_dict(string):\n",
    "    string = string.replace('=', '\":').replace(', ', ', \"').replace('null', 'None')[1:-1]\n",
    "    string = '{\"' + string +'}'\n",
    "    parsed_dict = dict(ast.literal_eval(string))\n",
    "    return parsed_dict\n",
    "\n",
    "df['match_values'] = df.match_values.apply(parse_str_dict)\n",
    "df_match_values = df['match_values'].apply(pd.Series)\n",
    "df = pd.concat([df.drop('match_values', axis=1), df_match_values], axis=1)\n",
    "# df.hvplot.scatter(x='add_ratio_rgb_mean', y='spm', c='match_td_days_abs', alpha=0.5, cmap='bwr')\n",
    "\n",
    "# prep dataframe\n",
    "df_samples = df.drop(columns=['.geo']).copy()\n",
    "df_samples = df_samples.loc[~np.isnan(df_samples.classification_mean)]\n",
    "df_samples.columns = df_samples.columns.str.replace(f'classification', 'spm', regex=True)\n",
    "df_samples['dt_utc'] = pd.to_datetime(df_samples['dt_utc'], format='mixed')\n"
   ]
  },
  {
   "cell_type": "code",
   "execution_count": null,
   "id": "5db734e2",
   "metadata": {},
   "outputs": [],
   "source": [
    "df.spm_mean.hvplot()"
   ]
  },
  {
   "cell_type": "code",
   "execution_count": null,
   "id": "817a6a8d",
   "metadata": {},
   "outputs": [],
   "source": [
    "target_label = 'spm_mean'\n",
    "df = df_samples.set_index('dt_utc').sort_index()\n",
    "df_before = df.loc['2000-01-01':'2017-12-31'][target_label]\n",
    "df_before_agg = df_before.groupby(df_before.index.month).mean()\n",
    "df_after = df.loc['2018-12-18':'2024-12-31'][target_label]\n",
    "df_after_agg = df_after.groupby(df_after.index.month).mean()\n",
    "\n",
    "# plot\n",
    "from bokeh.models import FixedTicker, FuncTickFormatter\n",
    "xticker = FixedTicker(ticks=list(range(1, 13)))\n",
    "minorticker = FixedTicker(ticks=[i + 0.5 for i in range(1, 13)])\n",
    "\n",
    "df_before_agg.hvplot.scatter(color='saddlebrown', label='Before', \n",
    "    #width=1000, height=400,\n",
    "    yticks=[0, 50, 100, 150, 200, 250, 300]) * \\\n",
    "df_before_agg.hvplot(color='saddlebrown', label='Before') * \\\n",
    "df_after_agg.hvplot.scatter(xlabel='', ylabel='SPM (mg/L)', color='olive', label='After') * \\\n",
    "df_after_agg.hvplot(color='olive', label='After') \\\n",
    "    .opts(xformatter=FuncTickFormatter(code=\"\"\"\n",
    "    var names = {1: 'Jan', 2: 'Feb', 3: 'Mar', 4: 'Apr', 5: 'May', 6: 'Jun', \n",
    "                 7: 'Jul', 8: 'Aug', 9: 'Sep', 10: 'Oct', 11: 'Nov', 12: 'Dec'};\n",
    "    return names[tick];\n",
    "\"\"\"),\n",
    "    xticks=xticker.ticks,\n",
    "    fontsize={'xticks': '14pt', 'yticks': '14pt', 'xlabel': '16pt', 'ylabel': '16pt'})"
   ]
  },
  {
   "cell_type": "code",
   "execution_count": null,
   "id": "01ee6f86",
   "metadata": {},
   "outputs": [],
   "source": [
    "100-df_after_agg.sum()/df_before_agg.sum()*100"
   ]
  },
  {
   "cell_type": "code",
   "execution_count": null,
   "id": "4bab8b33",
   "metadata": {},
   "outputs": [],
   "source": [
    "df.spm_mean.dropna().hvplot()"
   ]
  },
  {
   "cell_type": "markdown",
   "id": "817a6a8d",
   "metadata": {},
   "source": [
    "## Read DSMP sediment data to validate"
   ]
  },
  {
   "cell_type": "code",
   "execution_count": null,
   "id": "659bd796",
   "metadata": {},
   "outputs": [],
   "source": [
    "path_csv = r'E:\\git\\SOS-Water\\WP3\\T3.2\\notebooks\\mrc_webscrapper\\outputs\\csv\\Sediment Flux\\SedimentFlux.CalculatedDSMP@KH_SKB_[SekongBridge].csv'\n",
    "df_dsmp_flux = pd.read_csv(path_csv)\n",
    "df_dsmp_flux['date'] = pd.to_datetime(df_dsmp_flux['date'])\n",
    "\n",
    "path_csv = r'E:\\git\\SOS-Water\\WP3\\T3.2\\notebooks\\mrc_webscrapper\\outputs\\csv\\Sediment Concentration\\SedimentConcentration.MeasuredDSMP@KH_SKB_[SekongBridge].csv'\n",
    "df_dsmp_sedi = pd.read_csv(path_csv)\n",
    "df_dsmp_sedi['date'] = pd.to_datetime(df_dsmp_sedi['date'])\n",
    "\n",
    "path_csv = r'E:\\git\\SOS-Water\\WP3\\T3.2\\notebooks\\mrc_webscrapper\\outputs\\csv\\Discharge\\Discharge.MeasuredDSMP@KH_SKB_[SekongBridge].csv'\n",
    "df_dsmp_q = pd.read_csv(path_csv)\n",
    "df_dsmp_q['date'] = pd.to_datetime(df_dsmp_q['date'])"
   ]
  },
  {
   "cell_type": "markdown",
   "id": "e2d38538",
   "metadata": {},
   "source": [
    "## Read CASCADE data\n",
    "Read CASCADE file containing discharge (m3/s) measurements at Sekong Bridge."
   ]
  },
  {
   "cell_type": "code",
   "execution_count": null,
   "id": "cf6b52a5",
   "metadata": {},
   "outputs": [],
   "source": [
    "columns = ['year', 'month', 'day', 'discharge']\n",
    "path_csv = 'data/cascade/SekongBridgeDischarge.day'\n",
    "df_q = pd.read_csv(path_csv, skiprows=1, delimiter=r'\\s+', names=columns)\n",
    "df_q['date'] = pd.to_datetime(df_q['year'].astype(str) + '-' + \n",
    "                            df_q['month'].apply(lambda x: str(x).zfill(2)) + '-' + \n",
    "                            df_q['day'].apply(lambda x: str(x).zfill(2)))\n",
    "df_q = df_q.drop(columns=['year', 'month', 'day'])\n",
    "\n",
    "# Validate using DSMP\n",
    "df_cascade_q_daily = df_q.set_index('date').resample('D').mean()\n",
    "df_dsmp_q_daily = df_dsmp_q.set_index('date')[['value']].resample('D').mean()\n",
    "df_dsmp_q_daily.index = df_dsmp_q_daily.index.date\n",
    "df_q_val = pd.merge(df_cascade_q_daily, df_dsmp_q_daily, left_index=True, right_index=True).dropna()\n",
    "\n",
    "# Plot \n",
    "x = df_q_val.value\n",
    "y = df_q_val.discharge\n",
    "sorted_indices = np.argsort(x)\n",
    "x_sorted = x[sorted_indices]\n",
    "y_sorted = y[sorted_indices]\n",
    "fig, ax=plt.subplots(dpi=160)\n",
    "plt.plot(x_sorted, y_sorted, '.', label=\"data\", alpha=1)\n",
    "plt.plot(x_sorted, x_sorted, '--', label=\"1:1\")\n",
    "plt.xlabel('$Q_{DSMP}$ ($m^{3}$/s)')\n",
    "plt.ylabel('$Q_{VICRes}$ ($m^{3}$/s)')\n",
    "plt.title(\"Discharge validation (Sekong Bridge)\")\n",
    "plt.show()"
   ]
  },
  {
   "cell_type": "markdown",
   "id": "1efe56c6",
   "metadata": {},
   "source": [
    "## Interpolate gaps using sediment rating curves"
   ]
  },
  {
   "cell_type": "code",
   "execution_count": null,
   "id": "4525d58c",
   "metadata": {},
   "outputs": [],
   "source": [
    "from sklearn.linear_model import LinearRegression\n",
    "\n",
    "df_spm_daily = df_samples.set_index('dt_utc').filter(regex='^spm').resample('D').mean()\n",
    "df_q_daily = df_q.set_index('date').resample('D').mean()\n",
    "df_est_daily = pd.merge(df_spm_daily, df_q_daily, left_index=True, right_index=True)\n",
    "\n",
    "x_label = 'discharge'\n",
    "y_label = 'spm_mean'\n",
    "apply_log = False\n",
    "\n",
    "window_size = 365.25*10\n",
    "half_window = window_size // 2\n",
    "\n",
    "df_interp_daily = df_est_daily.resample('D').mean()\n",
    "df = df_interp_daily\n",
    "\n",
    "# apply interpolation using time-dependent rating curve\n",
    "for date, row in df.iterrows():\n",
    "    if (~np.isnan(row[y_label])) | (np.isnan(row[x_label])):\n",
    "        continue\n",
    "    window_start = date - pd.Timedelta(days=half_window)\n",
    "    window_end = date + pd.Timedelta(days=half_window)\n",
    "    df_temp = df.dropna() #df[(df.index >= window_start) & (df.index <= window_end)].dropna()\n",
    "    \n",
    "    if df_temp.shape[0] > 1:\n",
    "        # Apply linear regression on log-log transform\n",
    "        X = df_temp[x_label].values.reshape(-1, 1)\n",
    "        y = df_temp[y_label].values\n",
    "        if apply_log:\n",
    "            X, y = np.log(X), np.log(y)\n",
    "        model = LinearRegression()\n",
    "        model.fit(X, y)\n",
    "        if apply_log:\n",
    "            prediction_log = model.predict(np.log1p([[df.loc[date, x_label]]]))[0]\n",
    "            prediction = np.expm1(prediction_log)\n",
    "        else:\n",
    "            prediction = model.predict([[df.loc[date, x_label]]])[0]\n",
    "        df.loc[date, y_label] = prediction\n",
    "df_interp_daily = df\n",
    "\n",
    "# calculate flux\n",
    "# conversion q: m^3/s to m^3/day\n",
    "# conversion spm: mg/L to kg/m^3\n",
    "df_interp_daily['flux'] = (df_interp_daily[x_label]*24*60*60) * (df_interp_daily[y_label]/1000000)"
   ]
  },
  {
   "cell_type": "code",
   "execution_count": null,
   "id": "4b0c4afd",
   "metadata": {},
   "outputs": [],
   "source": [
    "# Validate using DSMP\n",
    "df_dsmp_sedi_daily = df_dsmp_sedi.set_index('date')[['value']].resample('D').mean()\n",
    "df_dsmp_sedi_daily.index = df_dsmp_sedi_daily.index.date\n",
    "df_q_val = pd.merge(df_dsmp_sedi_daily.dropna(), df_interp_daily, left_index=True, right_index=True)\n",
    "\n",
    "# Plot \n",
    "x = df_q_val.value\n",
    "y = df_q_val[y_label]\n",
    "sorted_indices = np.argsort(x)\n",
    "x_sorted = x[sorted_indices]\n",
    "y_sorted = y[sorted_indices]\n",
    "plt.plot(x_sorted, y_sorted, '.', label=\"data\", alpha=1)\n",
    "plt.plot(x_sorted, x_sorted, '--', label=\"1:1\")\n",
    "plt.ylabel('$SPM_{EO}$ (mg/L)')\n",
    "plt.xlabel('$SPM_{DSMP}$ (mg/L)')\n",
    "plt.title(\"SPM validation (Sekong Bridge)\")"
   ]
  },
  {
   "cell_type": "code",
   "execution_count": null,
   "id": "4b0c4afd",
   "metadata": {},
   "outputs": [],
   "source": [
    "plot_spm = df_interp_daily.hvplot(y=y_label, label='SPM (q-interpolated)', color='black',\n",
    "    width=1000, xlabel='', ylabel='SPM (mg/L)', title='SPM validation (Sekong Bridge)') * \\\n",
    "    df_est_daily.hvplot.scatter(y=y_label, label='SPM (EO-model)', color='red', marker='+') * \\\n",
    "    df_dsmp_sedi.hvplot.scatter(x='date', y='value', label='Sediment Concentration (DSMP)', color='green', marker='+') *\\\n",
    "    df_dsmp_sedi.set_index('date')['value'].resample('D').mean().interpolate(limit=14).hvplot(y='value', label='Sediment Concentration (DSMP)', color='green')\n",
    "    \n",
    "plot_flux = df_interp_daily.flux.hvplot(label='Flux (q-interpolated)', color='black',\n",
    "    width=1000, xlabel='', ylabel='Sediment Flux (tonnes/day)', title='Flux validation (Sekong Bridge)') *\\\n",
    "    df_dsmp_flux.hvplot.scatter(x='date', y='value', label='Flux (DSMP)', marker='+', color='green') *\\\n",
    "    df_dsmp_flux.set_index('date')['value'].resample('D').mean().interpolate(limit=14).hvplot(y='value', label='Flux (DSMP)', color='green')\n",
    "\n",
    "df_q_diff = df_q.set_index('date').discharge - df_dsmp_q.set_index(df_dsmp_q.date.dt.date).value\n",
    "plot_q_diff = hv.HLine(0).opts(color='black') * \\\n",
    "    df_q_diff.hvplot.scatter(xlabel='', ylabel='Discharge (m³/s)', title='Discharge validation (Sekong Bridge)', width=1000, \n",
    "                             label='ΔQ (VICRes - DSMP)', marker='+', color='red') * \\\n",
    "    df_q_diff.resample('D').mean().interpolate(limit=14).hvplot(label='ΔQ (VICRes - DSMP)', color='red')\n",
    "\n",
    "plot_q = df_q.hvplot(x='date', y='discharge', label='Q (VICRes)', color='black',\n",
    "    width=1000, xlabel='', ylabel='Discharge (m³/s)', title='Discharge validation (Sekong Bridge)') * \\\n",
    "    df_dsmp_q.hvplot.scatter(x='date', y='value', label='Q (DSMP)', marker='+', color='green') * \\\n",
    "    df_dsmp_q.set_index('date')['value'].resample('D').mean().interpolate(limit=14).hvplot(y='value', label='Q (DSMP)', color='green')\n",
    "\n",
    "plot_spm = plot_spm.opts(xlim=(pd.Timestamp('2012-01-01'), pd.Timestamp('2019-01-01')))\n",
    "plot_flux = plot_flux.opts(xlim=(pd.Timestamp('2012-01-01'), pd.Timestamp('2019-01-01')))\n",
    "plot_q = plot_q.opts(xlim=(pd.Timestamp('2012-01-01'), pd.Timestamp('2019-01-01')))\n",
    "plot_q_diff = plot_q_diff.opts(xlim=(pd.Timestamp('2012-01-01'), pd.Timestamp('2019-01-01')))\n",
    "\n",
    "plots = hv.Layout([plot_spm, plot_q, plot_q_diff, plot_flux]).cols(1).opts(shared_axes=False)\n",
    "plots"
   ]
  },
  {
   "cell_type": "code",
   "execution_count": null,
   "id": "314e51a3",
   "metadata": {},
   "outputs": [],
   "source": [
    "df_q_diff = df_q.set_index('date').discharge - df_dsmp_q.set_index(df_dsmp_q.date.dt.date).value\n",
    "plot_q_diff = hv.HLine(0) * \\\n",
    "    df_q_diff.hvplot.scatter(label='Q (difference)', marker='+', color='red') * \\\n",
    "    df_q_diff.resample('D').mean().interpolate(limit=14).hvplot(label='Q (difference)', color='red')\n",
    "    \n",
    "plot_q_diff"
   ]
  },
  {
   "cell_type": "code",
   "execution_count": null,
   "id": "894139b4",
   "metadata": {},
   "outputs": [],
   "source": [
    "plot_q_val = df_q.hvplot(x='date', y='discharge', label='Q (CASCADE)', color='black',\n",
    "    width=1000, ylabel='Discharge (m^3/s)', title='Discharge validation (Sekong Bridge)') * \\\n",
    "    df_dsmp_q.hvplot.scatter(x='date', y='value', label='Q (DSMP)', marker='+', color='green') * \\\n",
    "    df_dsmp_q.set_index('date')['value'].resample('D').mean().interpolate(limit=14).hvplot(y='value', label='Q (DSMP)', color='green')"
   ]
  },
  {
   "cell_type": "code",
   "execution_count": null,
   "id": "1bc3706e",
   "metadata": {},
   "outputs": [],
   "source": [
    "# (df_merge_daily['discharge']/df_merge_daily['spm_mean']).hvplot(label='daily_ratio') * \\\n",
    "# (df_merge_daily['discharge']/df_merge_daily['spm_mean']).rolling(pd.Timedelta(365.25, 'days'), center=True).median().hvplot(label='daily_ratio (rolling med)')"
   ]
  },
  {
   "cell_type": "code",
   "execution_count": null,
   "id": "422449a7",
   "metadata": {},
   "outputs": [],
   "source": [
    "import matplotlib.pyplot as plt\n",
    "\n",
    "plt.figure(figsize=(10, 6))\n",
    "plt.scatter(df_merge_daily['discharge'], df_merge_daily['spm_mean'], c=df_merge_daily['year'])\n",
    "plt.xlabel('Modeled Discharge (cfs)')\n",
    "plt.ylabel('Estimated Sediment (mg/L)')\n",
    "plt.title('Sediment Discharge Curve')\n",
    "plt.grid(True)\n",
    "plt.show()"
   ]
  }
 ],
 "metadata": {
  "kernelspec": {
   "display_name": "Python 3 (ipykernel)",
   "language": "python",
   "name": "python3"
  },
  "language_info": {
   "codemirror_mode": {
    "name": "ipython",
    "version": 3
   },
   "file_extension": ".py",
   "mimetype": "text/x-python",
   "name": "python",
   "nbconvert_exporter": "python",
   "pygments_lexer": "ipython3",
   "version": "3.12.1"
  }
 },
 "nbformat": 4,
 "nbformat_minor": 5
}
